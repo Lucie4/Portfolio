{
 "cells": [
  {
   "cell_type": "markdown",
   "id": "e5dd6ff1",
   "metadata": {},
   "source": [
    "# analysing the results\n",
    "\n",
    "looking wether or not the results are usable, using a T-test."
   ]
  },
  {
   "cell_type": "code",
   "execution_count": 1,
   "id": "c5233642",
   "metadata": {},
   "outputs": [],
   "source": [
    "import numpy as np\n",
    "import pandas as pd\n",
    "import matplotlib.pyplot as plt\n",
    "import os\n",
    "import re\n",
    "import statistics as stats\n",
    "import scipy\n",
    "import string as st\n",
    "import lmfit\n",
    "from lmfit import Model\n",
    "from lmfit import models\n",
    "from lmfit.models import *\n",
    "from scipy import io\n",
    "from scipy.fftpack import dct, idct\n",
    "from itertools import combinations\n",
    "import tkinter as tk\n",
    "from tkinter import filedialog\n",
    "import os\n",
    "import inspect\n",
    "import csv\n",
    "import sys"
   ]
  },
  {
   "cell_type": "code",
   "execution_count": 2,
   "id": "1ae48c5b",
   "metadata": {
    "scrolled": false
   },
   "outputs": [],
   "source": [
    "# Create the Tkinter root window\n",
    "root = tk.Tk()\n",
    "root.withdraw()  # Hide the root window\n",
    "raw_results = {}\n",
    "\n",
    "# Open the file dialog window\n",
    "input_file = filedialog.askopenfilename()\n",
    "\n",
    "if not input_file.endswith(\".csv\"):\n",
    "    print(\"Invalid file format. Please provide a CSV file.\")\n",
    "\n",
    "\n",
    "# Read the CSV file\n",
    "with open(input_file, 'r') as file:\n",
    "    reader = csv.reader(file)\n",
    "    for row in reader:\n",
    "        key, value = row\n",
    "        raw_results[key] = float(value)\n",
    "\n",
    "#print(raw_results)\n"
   ]
  },
  {
   "cell_type": "code",
   "execution_count": 3,
   "id": "2c1d0fe9",
   "metadata": {
    "scrolled": true
   },
   "outputs": [],
   "source": [
    "\n",
    "# Regular expression pattern\n",
    "#pattern = r'(\\w+)(\\d+)_+(\\w+)(\\d+)'\n",
    "pattern = r'([A-Za-z]+)(?:\\d+)_+([A-Za-z]+)(?:\\d+)'\n",
    "\n",
    "same_names = []\n",
    "different_names = []\n",
    "\n",
    "for key, values in raw_results.items():\n",
    "    match = re.search(pattern, key)\n",
    "    if match:\n",
    "        name1 = match.group(1)\n",
    "        name2 = match.group(2)\n",
    "        value = np.log10(values)\n",
    "    \n",
    "        if np.isinf(value):\n",
    "            value = 308.25471556\n",
    "        elif value == 0.0:\n",
    "            value = -308.25471556      \n",
    "\n",
    "            \n",
    "        if name1 == name2:\n",
    "            same_names.append(value)\n",
    "        else:\n",
    "            different_names.append(value)\n",
    "\n",
    "### Print results ###\n",
    "#print('Same names:')\n",
    "#for number in same_names:\n",
    "    #print(number)\n",
    "\n",
    "#print('Different names:')\n",
    "#for number in different_names:\n",
    "    #print(number)\n",
    "    "
   ]
  },
  {
   "cell_type": "code",
   "execution_count": 4,
   "id": "5e69bebe",
   "metadata": {
    "scrolled": false
   },
   "outputs": [
    {
     "data": {
      "text/plain": [
       "Ttest_indResult(statistic=1.5425201916715454, pvalue=0.12530553138632008)"
      ]
     },
     "execution_count": 4,
     "metadata": {},
     "output_type": "execute_result"
    }
   ],
   "source": [
    "scipy.stats.ttest_ind(same_names, different_names)"
   ]
  }
 ],
 "metadata": {
  "kernelspec": {
   "display_name": "Python 3 (ipykernel)",
   "language": "python",
   "name": "python3"
  },
  "language_info": {
   "codemirror_mode": {
    "name": "ipython",
    "version": 3
   },
   "file_extension": ".py",
   "mimetype": "text/x-python",
   "name": "python",
   "nbconvert_exporter": "python",
   "pygments_lexer": "ipython3",
   "version": "3.9.13"
  }
 },
 "nbformat": 4,
 "nbformat_minor": 5
}
